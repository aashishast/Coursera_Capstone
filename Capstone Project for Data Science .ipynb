


install pandas as pd
install 
